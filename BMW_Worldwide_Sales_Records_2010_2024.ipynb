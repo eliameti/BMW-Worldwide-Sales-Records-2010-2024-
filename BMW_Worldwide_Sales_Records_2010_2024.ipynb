{
  "nbformat": 4,
  "nbformat_minor": 0,
  "metadata": {
    "colab": {
      "provenance": [],
      "authorship_tag": "ABX9TyOWGukd512vtrszv2/uVQLK",
      "include_colab_link": true
    },
    "kernelspec": {
      "name": "python3",
      "display_name": "Python 3"
    },
    "language_info": {
      "name": "python"
    }
  },
  "cells": [
    {
      "cell_type": "markdown",
      "metadata": {
        "id": "view-in-github",
        "colab_type": "text"
      },
      "source": [
        "<a href=\"https://colab.research.google.com/github/eliameti/BMW-Worldwide-Sales-Records-2010-2024-/blob/main/BMW_Worldwide_Sales_Records_2010_2024.ipynb\" target=\"_parent\"><img src=\"https://colab.research.google.com/assets/colab-badge.svg\" alt=\"Open In Colab\"/></a>"
      ]
    },
    {
      "cell_type": "code",
      "execution_count": null,
      "metadata": {
        "id": "PCDIbFPtynXD"
      },
      "outputs": [],
      "source": []
    }
  ]
}